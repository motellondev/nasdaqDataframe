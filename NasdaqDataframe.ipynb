{
 "cells": [
  {
   "cell_type": "markdown",
   "id": "d9a9b2ee",
   "metadata": {},
   "source": [
    "# GET Data from Nasdaq API"
   ]
  },
  {
   "cell_type": "markdown",
   "id": "8945eda1",
   "metadata": {},
   "source": [
    "### Set headers"
   ]
  },
  {
   "cell_type": "code",
   "execution_count": 1,
   "id": "d7c104c3",
   "metadata": {},
   "outputs": [],
   "source": [
    "sectors= ['technology', 'telecommunications', 'finance', 'health_care',\n",
    "          'real_estate','consumer_discretionary', 'consumer_staples', 'industrials',\n",
    "          'basic_materials','energy', 'utilities']\n",
    "\n",
    "domain = 'https://www.nasdaq.com'\n",
    "\n",
    "headers = {\n",
    "    'authority': 'api.nasdaq.com',\n",
    "    'accept': 'application/json, text/plain, */*',\n",
    "    'accept-language': 'es-ES,es;q=0.5',\n",
    "    'origin': 'https://www.nasdaq.com',\n",
    "    'referer': 'https://www.nasdaq.com/',\n",
    "    'sec-fetch-dest': 'empty',\n",
    "    'sec-fetch-mode': 'cors',\n",
    "    'sec-fetch-site': 'same-site',\n",
    "    'sec-gpc': '1',\n",
    "    'user-agent': 'Mozilla/5.0',\n",
    "}\n",
    "\n",
    "params = {\n",
    "    'tableonly': 'true',\n",
    "    'limit': '20', # Limits the number of stocks for each sector\n",
    "    'sector': '',\n",
    "}"
   ]
  },
  {
   "cell_type": "markdown",
   "id": "0fd86570",
   "metadata": {},
   "source": [
    "### Send request and create dataframe"
   ]
  },
  {
   "cell_type": "code",
   "execution_count": 2,
   "id": "38e61980",
   "metadata": {
    "scrolled": true
   },
   "outputs": [],
   "source": [
    "import pandas as pd\n",
    "import requests\n",
    "\n",
    "all_frames = []\n",
    "sector_df = pd.DataFrame()\n",
    "\n",
    "for sector in sectors:\n",
    "    params['sector'] = sector\n",
    "\n",
    "    response = requests.get('https://api.nasdaq.com/api/screener/stocks', params=params, headers=headers)\n",
    "    response = response.json()\n",
    "    sector_df = pd.DataFrame(response['data']['table']['rows'])\n",
    "    sector_df['sector'] = sector\n",
    "    sector_df['url'] = domain + sector_df['url']\n",
    "    all_frames.append(sector_df)\n",
    "\n",
    "all_sectors_df = pd.concat(all_frames, ignore_index=True)"
   ]
  },
  {
   "cell_type": "markdown",
   "id": "ca89437b",
   "metadata": {},
   "source": [
    "### Format dataframe"
   ]
  },
  {
   "cell_type": "code",
   "execution_count": 3,
   "id": "6a5bd25c",
   "metadata": {
    "scrolled": true
   },
   "outputs": [
    {
     "data": {
      "text/html": [
       "<div>\n",
       "<style scoped>\n",
       "    .dataframe tbody tr th:only-of-type {\n",
       "        vertical-align: middle;\n",
       "    }\n",
       "\n",
       "    .dataframe tbody tr th {\n",
       "        vertical-align: top;\n",
       "    }\n",
       "\n",
       "    .dataframe thead th {\n",
       "        text-align: right;\n",
       "    }\n",
       "</style>\n",
       "<table border=\"1\" class=\"dataframe\">\n",
       "  <thead>\n",
       "    <tr style=\"text-align: right;\">\n",
       "      <th></th>\n",
       "      <th>symbol</th>\n",
       "      <th>name</th>\n",
       "      <th>lastsale</th>\n",
       "      <th>netchange</th>\n",
       "      <th>pctchange</th>\n",
       "      <th>marketCap</th>\n",
       "      <th>url</th>\n",
       "      <th>sector</th>\n",
       "    </tr>\n",
       "  </thead>\n",
       "  <tbody>\n",
       "    <tr>\n",
       "      <th>0</th>\n",
       "      <td>AAPL</td>\n",
       "      <td>Apple Inc. Common Stock</td>\n",
       "      <td>136.145</td>\n",
       "      <td>1.385</td>\n",
       "      <td>1.028</td>\n",
       "      <td>2360392154300</td>\n",
       "      <td>https://www.nasdaq.com/market-activity/stocks/...</td>\n",
       "      <td>technology</td>\n",
       "    </tr>\n",
       "    <tr>\n",
       "      <th>1</th>\n",
       "      <td>MSFT</td>\n",
       "      <td>Microsoft Corporation Common Stock</td>\n",
       "      <td>239.580</td>\n",
       "      <td>0.350</td>\n",
       "      <td>0.146</td>\n",
       "      <td>1785942675840</td>\n",
       "      <td>https://www.nasdaq.com/market-activity/stocks/...</td>\n",
       "      <td>technology</td>\n",
       "    </tr>\n",
       "    <tr>\n",
       "      <th>2</th>\n",
       "      <td>GOOG</td>\n",
       "      <td>Alphabet Inc. Class C Capital Stock</td>\n",
       "      <td>91.960</td>\n",
       "      <td>-0.840</td>\n",
       "      <td>-0.905</td>\n",
       "      <td>1190238280000</td>\n",
       "      <td>https://www.nasdaq.com/market-activity/stocks/...</td>\n",
       "      <td>technology</td>\n",
       "    </tr>\n",
       "    <tr>\n",
       "      <th>3</th>\n",
       "      <td>GOOGL</td>\n",
       "      <td>Alphabet Inc. Class A Common Stock</td>\n",
       "      <td>91.160</td>\n",
       "      <td>-0.960</td>\n",
       "      <td>-1.042</td>\n",
       "      <td>1179883880000</td>\n",
       "      <td>https://www.nasdaq.com/market-activity/stocks/...</td>\n",
       "      <td>technology</td>\n",
       "    </tr>\n",
       "    <tr>\n",
       "      <th>4</th>\n",
       "      <td>TSM</td>\n",
       "      <td>Taiwan Semiconductor Manufacturing Company Ltd.</td>\n",
       "      <td>88.960</td>\n",
       "      <td>2.160</td>\n",
       "      <td>2.488</td>\n",
       "      <td>461346560000</td>\n",
       "      <td>https://www.nasdaq.com/market-activity/stocks/tsm</td>\n",
       "      <td>technology</td>\n",
       "    </tr>\n",
       "    <tr>\n",
       "      <th>...</th>\n",
       "      <td>...</td>\n",
       "      <td>...</td>\n",
       "      <td>...</td>\n",
       "      <td>...</td>\n",
       "      <td>...</td>\n",
       "      <td>...</td>\n",
       "      <td>...</td>\n",
       "      <td>...</td>\n",
       "    </tr>\n",
       "    <tr>\n",
       "      <th>215</th>\n",
       "      <td>XEL</td>\n",
       "      <td>Xcel Energy Inc. Common Stock</td>\n",
       "      <td>70.860</td>\n",
       "      <td>-0.310</td>\n",
       "      <td>-0.436</td>\n",
       "      <td>38778028427</td>\n",
       "      <td>https://www.nasdaq.com/market-activity/stocks/xel</td>\n",
       "      <td>utilities</td>\n",
       "    </tr>\n",
       "    <tr>\n",
       "      <th>216</th>\n",
       "      <td>LNG</td>\n",
       "      <td>Cheniere Energy, Inc. Common Stock</td>\n",
       "      <td>148.525</td>\n",
       "      <td>-7.985</td>\n",
       "      <td>-5.102</td>\n",
       "      <td>36932138276</td>\n",
       "      <td>https://www.nasdaq.com/market-activity/stocks/lng</td>\n",
       "      <td>utilities</td>\n",
       "    </tr>\n",
       "    <tr>\n",
       "      <th>217</th>\n",
       "      <td>WCN</td>\n",
       "      <td>Waste Connections, Inc. Common Shares</td>\n",
       "      <td>132.490</td>\n",
       "      <td>1.900</td>\n",
       "      <td>1.455</td>\n",
       "      <td>34076606597</td>\n",
       "      <td>https://www.nasdaq.com/market-activity/stocks/wcn</td>\n",
       "      <td>utilities</td>\n",
       "    </tr>\n",
       "    <tr>\n",
       "      <th>218</th>\n",
       "      <td>ED</td>\n",
       "      <td>Consolidated Edison, Inc. Common Stock</td>\n",
       "      <td>95.570</td>\n",
       "      <td>-0.920</td>\n",
       "      <td>-0.953</td>\n",
       "      <td>33914242383</td>\n",
       "      <td>https://www.nasdaq.com/market-activity/stocks/ed</td>\n",
       "      <td>utilities</td>\n",
       "    </tr>\n",
       "    <tr>\n",
       "      <th>219</th>\n",
       "      <td>PCG</td>\n",
       "      <td>Pacific Gas &amp; Electric Co. Common Stock</td>\n",
       "      <td>15.875</td>\n",
       "      <td>-0.015</td>\n",
       "      <td>-0.094</td>\n",
       "      <td>33697863849</td>\n",
       "      <td>https://www.nasdaq.com/market-activity/stocks/pcg</td>\n",
       "      <td>utilities</td>\n",
       "    </tr>\n",
       "  </tbody>\n",
       "</table>\n",
       "<p>220 rows × 8 columns</p>\n",
       "</div>"
      ],
      "text/plain": [
       "    symbol                                             name  lastsale  \\\n",
       "0     AAPL                          Apple Inc. Common Stock   136.145   \n",
       "1     MSFT               Microsoft Corporation Common Stock   239.580   \n",
       "2     GOOG              Alphabet Inc. Class C Capital Stock    91.960   \n",
       "3    GOOGL               Alphabet Inc. Class A Common Stock    91.160   \n",
       "4      TSM  Taiwan Semiconductor Manufacturing Company Ltd.    88.960   \n",
       "..     ...                                              ...       ...   \n",
       "215    XEL                    Xcel Energy Inc. Common Stock    70.860   \n",
       "216    LNG               Cheniere Energy, Inc. Common Stock   148.525   \n",
       "217    WCN            Waste Connections, Inc. Common Shares   132.490   \n",
       "218     ED           Consolidated Edison, Inc. Common Stock    95.570   \n",
       "219    PCG          Pacific Gas & Electric Co. Common Stock    15.875   \n",
       "\n",
       "     netchange  pctchange      marketCap  \\\n",
       "0        1.385      1.028  2360392154300   \n",
       "1        0.350      0.146  1785942675840   \n",
       "2       -0.840     -0.905  1190238280000   \n",
       "3       -0.960     -1.042  1179883880000   \n",
       "4        2.160      2.488   461346560000   \n",
       "..         ...        ...            ...   \n",
       "215     -0.310     -0.436    38778028427   \n",
       "216     -7.985     -5.102    36932138276   \n",
       "217      1.900      1.455    34076606597   \n",
       "218     -0.920     -0.953    33914242383   \n",
       "219     -0.015     -0.094    33697863849   \n",
       "\n",
       "                                                   url      sector  \n",
       "0    https://www.nasdaq.com/market-activity/stocks/...  technology  \n",
       "1    https://www.nasdaq.com/market-activity/stocks/...  technology  \n",
       "2    https://www.nasdaq.com/market-activity/stocks/...  technology  \n",
       "3    https://www.nasdaq.com/market-activity/stocks/...  technology  \n",
       "4    https://www.nasdaq.com/market-activity/stocks/tsm  technology  \n",
       "..                                                 ...         ...  \n",
       "215  https://www.nasdaq.com/market-activity/stocks/xel   utilities  \n",
       "216  https://www.nasdaq.com/market-activity/stocks/lng   utilities  \n",
       "217  https://www.nasdaq.com/market-activity/stocks/wcn   utilities  \n",
       "218   https://www.nasdaq.com/market-activity/stocks/ed   utilities  \n",
       "219  https://www.nasdaq.com/market-activity/stocks/pcg   utilities  \n",
       "\n",
       "[220 rows x 8 columns]"
      ]
     },
     "execution_count": 3,
     "metadata": {},
     "output_type": "execute_result"
    }
   ],
   "source": [
    "\n",
    "all_sectors_df['lastsale'] = all_sectors_df['lastsale'].str.replace('$','',regex=False)\n",
    "all_sectors_df['pctchange'] = all_sectors_df['pctchange'].str.replace('%','',regex=False)\n",
    "all_sectors_df['marketCap'] = all_sectors_df['marketCap'].str.replace(',','',regex=False)\n",
    "all_sectors_df['lastsale'] = all_sectors_df['lastsale'].astype(float)\n",
    "all_sectors_df['pctchange'] = pd.to_numeric(all_sectors_df['pctchange'], errors='coerce')\n",
    "all_sectors_df['netchange'] = pd.to_numeric(all_sectors_df['netchange'], errors='coerce')\n",
    "all_sectors_df['marketCap'] = all_sectors_df['marketCap'].astype(int)\n",
    "all_sectors_df"
   ]
  },
  {
   "cell_type": "markdown",
   "id": "655401da",
   "metadata": {},
   "source": [
    "### Plot data\n",
    "#### Sort all stocks by market capitalization"
   ]
  },
  {
   "cell_type": "code",
   "execution_count": 4,
   "id": "5c198556",
   "metadata": {
    "scrolled": true
   },
   "outputs": [
    {
     "data": {
      "text/html": [
       "<div>\n",
       "<style scoped>\n",
       "    .dataframe tbody tr th:only-of-type {\n",
       "        vertical-align: middle;\n",
       "    }\n",
       "\n",
       "    .dataframe tbody tr th {\n",
       "        vertical-align: top;\n",
       "    }\n",
       "\n",
       "    .dataframe thead th {\n",
       "        text-align: right;\n",
       "    }\n",
       "</style>\n",
       "<table border=\"1\" class=\"dataframe\">\n",
       "  <thead>\n",
       "    <tr style=\"text-align: right;\">\n",
       "      <th></th>\n",
       "      <th>symbol</th>\n",
       "      <th>name</th>\n",
       "      <th>lastsale</th>\n",
       "      <th>netchange</th>\n",
       "      <th>pctchange</th>\n",
       "      <th>marketCap</th>\n",
       "      <th>url</th>\n",
       "      <th>sector</th>\n",
       "    </tr>\n",
       "  </thead>\n",
       "  <tbody>\n",
       "    <tr>\n",
       "      <th>43</th>\n",
       "      <td>MS</td>\n",
       "      <td>Morgan Stanley Common Stock</td>\n",
       "      <td>98.4703</td>\n",
       "      <td>6.8103</td>\n",
       "      <td>7.430</td>\n",
       "      <td>166425581522</td>\n",
       "      <td>https://www.nasdaq.com/market-activity/stocks/ms</td>\n",
       "      <td>finance</td>\n",
       "    </tr>\n",
       "    <tr>\n",
       "      <th>102</th>\n",
       "      <td>TSLA</td>\n",
       "      <td>Tesla, Inc. Common Stock</td>\n",
       "      <td>131.0101</td>\n",
       "      <td>8.6101</td>\n",
       "      <td>7.034</td>\n",
       "      <td>413697464119</td>\n",
       "      <td>https://www.nasdaq.com/market-activity/stocks/...</td>\n",
       "      <td>consumer_discretionary</td>\n",
       "    </tr>\n",
       "    <tr>\n",
       "      <th>5</th>\n",
       "      <td>NVDA</td>\n",
       "      <td>NVIDIA Corporation Common Stock</td>\n",
       "      <td>175.9529</td>\n",
       "      <td>6.9629</td>\n",
       "      <td>4.120</td>\n",
       "      <td>432844134000</td>\n",
       "      <td>https://www.nasdaq.com/market-activity/stocks/...</td>\n",
       "      <td>technology</td>\n",
       "    </tr>\n",
       "    <tr>\n",
       "      <th>29</th>\n",
       "      <td>TLK</td>\n",
       "      <td>PT Telekomunikasi Indonesia, Tbk</td>\n",
       "      <td>25.9050</td>\n",
       "      <td>0.9950</td>\n",
       "      <td>3.994</td>\n",
       "      <td>25662067184</td>\n",
       "      <td>https://www.nasdaq.com/market-activity/stocks/tlk</td>\n",
       "      <td>telecommunications</td>\n",
       "    </tr>\n",
       "    <tr>\n",
       "      <th>111</th>\n",
       "      <td>TM</td>\n",
       "      <td>Toyota Motor Corporation Common Stock</td>\n",
       "      <td>144.6300</td>\n",
       "      <td>4.3300</td>\n",
       "      <td>3.086</td>\n",
       "      <td>197338123987</td>\n",
       "      <td>https://www.nasdaq.com/market-activity/stocks/tm</td>\n",
       "      <td>consumer_discretionary</td>\n",
       "    </tr>\n",
       "    <tr>\n",
       "      <th>...</th>\n",
       "      <td>...</td>\n",
       "      <td>...</td>\n",
       "      <td>...</td>\n",
       "      <td>...</td>\n",
       "      <td>...</td>\n",
       "      <td>...</td>\n",
       "      <td>...</td>\n",
       "      <td>...</td>\n",
       "    </tr>\n",
       "    <tr>\n",
       "      <th>171</th>\n",
       "      <td>SBSW</td>\n",
       "      <td>D/B/A Sibanye-Stillwater Limited ADS</td>\n",
       "      <td>11.6600</td>\n",
       "      <td>-0.6500</td>\n",
       "      <td>-5.280</td>\n",
       "      <td>8250144353</td>\n",
       "      <td>https://www.nasdaq.com/market-activity/stocks/...</td>\n",
       "      <td>basic_materials</td>\n",
       "    </tr>\n",
       "    <tr>\n",
       "      <th>176</th>\n",
       "      <td>HMY</td>\n",
       "      <td>Harmony Gold Mining Company Limited</td>\n",
       "      <td>3.7950</td>\n",
       "      <td>-0.2750</td>\n",
       "      <td>-6.757</td>\n",
       "      <td>2345403323</td>\n",
       "      <td>https://www.nasdaq.com/market-activity/stocks/hmy</td>\n",
       "      <td>basic_materials</td>\n",
       "    </tr>\n",
       "    <tr>\n",
       "      <th>157</th>\n",
       "      <td>EMR</td>\n",
       "      <td>Emerson Electric Company Common Stock</td>\n",
       "      <td>91.3000</td>\n",
       "      <td>-6.6200</td>\n",
       "      <td>-6.761</td>\n",
       "      <td>53164273395</td>\n",
       "      <td>https://www.nasdaq.com/market-activity/stocks/emr</td>\n",
       "      <td>industrials</td>\n",
       "    </tr>\n",
       "    <tr>\n",
       "      <th>48</th>\n",
       "      <td>GS</td>\n",
       "      <td>Goldman Sachs Group, Inc. (The) Common Stock</td>\n",
       "      <td>345.0400</td>\n",
       "      <td>-28.9600</td>\n",
       "      <td>-7.743</td>\n",
       "      <td>116842478244</td>\n",
       "      <td>https://www.nasdaq.com/market-activity/stocks/gs</td>\n",
       "      <td>finance</td>\n",
       "    </tr>\n",
       "    <tr>\n",
       "      <th>33</th>\n",
       "      <td>LBTYB</td>\n",
       "      <td>Liberty Global plc Class B Ordinary Shares</td>\n",
       "      <td>22.2044</td>\n",
       "      <td>NaN</td>\n",
       "      <td>NaN</td>\n",
       "      <td>10208536227</td>\n",
       "      <td>https://www.nasdaq.com/market-activity/stocks/...</td>\n",
       "      <td>telecommunications</td>\n",
       "    </tr>\n",
       "  </tbody>\n",
       "</table>\n",
       "<p>220 rows × 8 columns</p>\n",
       "</div>"
      ],
      "text/plain": [
       "    symbol                                          name  lastsale  netchange  \\\n",
       "43      MS                   Morgan Stanley Common Stock   98.4703     6.8103   \n",
       "102   TSLA                      Tesla, Inc. Common Stock  131.0101     8.6101   \n",
       "5     NVDA               NVIDIA Corporation Common Stock  175.9529     6.9629   \n",
       "29     TLK              PT Telekomunikasi Indonesia, Tbk   25.9050     0.9950   \n",
       "111     TM         Toyota Motor Corporation Common Stock  144.6300     4.3300   \n",
       "..     ...                                           ...       ...        ...   \n",
       "171   SBSW          D/B/A Sibanye-Stillwater Limited ADS   11.6600    -0.6500   \n",
       "176    HMY           Harmony Gold Mining Company Limited    3.7950    -0.2750   \n",
       "157    EMR         Emerson Electric Company Common Stock   91.3000    -6.6200   \n",
       "48      GS  Goldman Sachs Group, Inc. (The) Common Stock  345.0400   -28.9600   \n",
       "33   LBTYB    Liberty Global plc Class B Ordinary Shares   22.2044        NaN   \n",
       "\n",
       "     pctchange     marketCap  \\\n",
       "43       7.430  166425581522   \n",
       "102      7.034  413697464119   \n",
       "5        4.120  432844134000   \n",
       "29       3.994   25662067184   \n",
       "111      3.086  197338123987   \n",
       "..         ...           ...   \n",
       "171     -5.280    8250144353   \n",
       "176     -6.757    2345403323   \n",
       "157     -6.761   53164273395   \n",
       "48      -7.743  116842478244   \n",
       "33         NaN   10208536227   \n",
       "\n",
       "                                                   url                  sector  \n",
       "43    https://www.nasdaq.com/market-activity/stocks/ms                 finance  \n",
       "102  https://www.nasdaq.com/market-activity/stocks/...  consumer_discretionary  \n",
       "5    https://www.nasdaq.com/market-activity/stocks/...              technology  \n",
       "29   https://www.nasdaq.com/market-activity/stocks/tlk      telecommunications  \n",
       "111   https://www.nasdaq.com/market-activity/stocks/tm  consumer_discretionary  \n",
       "..                                                 ...                     ...  \n",
       "171  https://www.nasdaq.com/market-activity/stocks/...         basic_materials  \n",
       "176  https://www.nasdaq.com/market-activity/stocks/hmy         basic_materials  \n",
       "157  https://www.nasdaq.com/market-activity/stocks/emr             industrials  \n",
       "48    https://www.nasdaq.com/market-activity/stocks/gs                 finance  \n",
       "33   https://www.nasdaq.com/market-activity/stocks/...      telecommunications  \n",
       "\n",
       "[220 rows x 8 columns]"
      ]
     },
     "execution_count": 4,
     "metadata": {},
     "output_type": "execute_result"
    }
   ],
   "source": [
    "all_sectors_df.sort_values('marketCap', ascending=False)\n",
    "all_sectors_df.sort_values('pctchange', ascending=False)"
   ]
  },
  {
   "cell_type": "markdown",
   "id": "ab0e9beb",
   "metadata": {},
   "source": [
    "#### Plot total market capitalization distribution by sector"
   ]
  },
  {
   "cell_type": "code",
   "execution_count": 5,
   "id": "c1099d94",
   "metadata": {},
   "outputs": [
    {
     "data": {
      "text/plain": [
       "<AxesSubplot:ylabel='marketCap'>"
      ]
     },
     "execution_count": 5,
     "metadata": {},
     "output_type": "execute_result"
    },
    {
     "data": {
      "image/png": "[encoded data removed]",
      "text/plain": [
       "<Figure size 432x288 with 1 Axes>"
      ]
     },
     "metadata": {},
     "output_type": "display_data"
    }
   ],
   "source": [
    "sectors_market_cap = all_sectors_df.groupby('sector')['marketCap'].sum()\n",
    "sectors_market_cap.sort_values().plot(kind='pie')"
   ]
  },
  {
   "cell_type": "markdown",
   "id": "4ba6895c",
   "metadata": {},
   "source": [
    "#### Plot average percentage change by sector"
   ]
  },
  {
   "cell_type": "code",
   "execution_count": 6,
   "id": "88c52896",
   "metadata": {},
   "outputs": [
    {
     "data": {
      "text/plain": [
       "<AxesSubplot:ylabel='sector'>"
      ]
     },
     "execution_count": 6,
     "metadata": {},
     "output_type": "execute_result"
    },
    {
     "data": {
      "image/png": "[encoded data removed]",
      "text/plain": [
       "<Figure size 432x288 with 1 Axes>"
      ]
     },
     "metadata": {
      "needs_background": "light"
     },
     "output_type": "display_data"
    }
   ],
   "source": [
    "sectors_pctchange = all_sectors_df.groupby('sector')['pctchange'].mean()\n",
    "sectors_pctchange.sort_values().plot(kind='barh')"
   ]
  },
  {
   "cell_type": "markdown",
   "id": "c77e31f8",
   "metadata": {},
   "source": [
    "#### Plot TOP 10 best percentage changes by company"
   ]
  },
  {
   "cell_type": "code",
   "execution_count": 7,
   "id": "08638d7f",
   "metadata": {},
   "outputs": [
    {
     "data": {
      "text/plain": [
       "<AxesSubplot:ylabel='symbol'>"
      ]
     },
     "execution_count": 7,
     "metadata": {},
     "output_type": "execute_result"
    },
    {
     "data": {
      "image/png": "[encoded data removed]",
      "text/plain": [
       "<Figure size 432x288 with 1 Axes>"
      ]
     },
     "metadata": {
      "needs_background": "light"
     },
     "output_type": "display_data"
    }
   ],
   "source": [
    "top_pctchange = all_sectors_df.sort_values('pctchange', ascending=False).head(10)\n",
    "top_pctchange.plot(kind='barh', x='symbol', y='pctchange')"
   ]
  },
  {
   "cell_type": "markdown",
   "id": "adeef5c8",
   "metadata": {},
   "source": [
    "#### Plot TOP 10 worst percentage changes by company"
   ]
  },
  {
   "cell_type": "code",
   "execution_count": 8,
   "id": "05f3fea7",
   "metadata": {
    "scrolled": true
   },
   "outputs": [
    {
     "data": {
      "text/plain": [
       "<AxesSubplot:ylabel='symbol'>"
      ]
     },
     "execution_count": 8,
     "metadata": {},
     "output_type": "execute_result"
    },
    {
     "data": {
      "image/png": "[encoded data removed]",
      "text/plain": [
       "<Figure size 432x288 with 1 Axes>"
      ]
     },
     "metadata": {
      "needs_background": "light"
     },
     "output_type": "display_data"
    }
   ],
   "source": [
    "top_pctchange = all_sectors_df.sort_values('pctchange').head(10)\n",
    "top_pctchange.plot(kind='barh', x='symbol', y='pctchange')"
   ]
  },
  {
   "cell_type": "code",
   "execution_count": null,
   "id": "e39ffe4c",
   "metadata": {},
   "outputs": [],
   "source": []
  }
 ],
 "metadata": {
  "kernelspec": {
   "display_name": "Python 3 (ipykernel)",
   "language": "python",
   "name": "python3"
  },
  "language_info": {
   "codemirror_mode": {
    "name": "ipython",
    "version": 3
   },
   "file_extension": ".py",
   "mimetype": "text/x-python",
   "name": "python",
   "nbconvert_exporter": "python",
   "pygments_lexer": "ipython3",
   "version": "3.10.6"
  }
 },
 "nbformat": 4,
 "nbformat_minor": 5
}
